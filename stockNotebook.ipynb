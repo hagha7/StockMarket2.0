{
 "cells": [
  {
   "cell_type": "code",
   "execution_count": 40,
   "metadata": {},
   "outputs": [
    {
     "name": "stdout",
     "output_type": "stream",
     "text": [
      "Apple Inc.\n"
     ]
    }
   ],
   "source": [
    "import importlib\n",
    "import stockInfo\n",
    "from stockInfo import create_and_compile_model\n",
    "importlib.reload(stockInfo)\n",
    "from stockInfo import YahooFinanceCompanyInfo, dataCollect\n",
    "\n",
    "yahoo_info = YahooFinanceCompanyInfo()\n",
    "tick = input('What is your Ticker Name?').upper()\n",
    "yahoo_info.set_ticker(tick)\n",
    "company_name = yahoo_info.get_company_name()\n",
    "print(company_name)"
   ]
  },
  {
   "cell_type": "code",
   "execution_count": 41,
   "metadata": {},
   "outputs": [],
   "source": [
    "start = input('What is your start date? Enter in YYYY-MM-DD format')\n",
    "yahoo_info.get_company_start_date(start)\n",
    "end = input('What is your end date? Enter in YYYY-MM-DD format')\n",
    "yahoo_info.get_company_end_date(end)"
   ]
  },
  {
   "cell_type": "code",
   "execution_count": 42,
   "metadata": {},
   "outputs": [
    {
     "name": "stdout",
     "output_type": "stream",
     "text": [
      "[*********************100%%**********************]  1 of 1 completed\n",
      "                  Open        High         Low       Close   Adj Close  \\\n",
      "Date                                                                     \n",
      "2021-03-04  121.750000  123.599998  118.620003  120.129997  118.377350   \n",
      "2021-03-05  120.980003  121.940002  117.570000  121.419998  119.648537   \n",
      "2021-03-08  120.930000  121.000000  116.209999  116.360001  114.662361   \n",
      "2021-03-09  119.029999  122.059998  118.790001  121.089996  119.323357   \n",
      "2021-03-10  121.690002  122.169998  119.449997  119.980003  118.229553   \n",
      "\n",
      "               Volume  \n",
      "Date                   \n",
      "2021-03-04  178155000  \n",
      "2021-03-05  153766600  \n",
      "2021-03-08  154376600  \n",
      "2021-03-09  129525800  \n",
      "2021-03-10  111943300  \n",
      "                  Open        High         Low       Close   Adj Close  \\\n",
      "Date                                                                     \n",
      "2023-09-25  174.199997  176.970001  174.149994  176.080002  176.080002   \n",
      "2023-09-26  174.820007  175.199997  171.660004  171.960007  171.960007   \n",
      "2023-09-27  172.619995  173.039993  169.050003  170.429993  170.429993   \n",
      "2023-09-28  169.339996  172.029999  167.619995  170.690002  170.690002   \n",
      "2023-09-29  172.020004  173.070007  170.339996  171.210007  171.210007   \n",
      "\n",
      "              Volume  \n",
      "Date                  \n",
      "2023-09-25  46172700  \n",
      "2023-09-26  64588900  \n",
      "2023-09-27  66921800  \n",
      "2023-09-28  56294400  \n",
      "2023-09-29  51814200  \n"
     ]
    }
   ],
   "source": [
    "stock_data = yahoo_info.fetch_stock_data()\n",
    "if stock_data is not None:\n",
    "    print(stock_data.head())\n",
    "    print(stock_data.tail())"
   ]
  },
  {
   "cell_type": "code",
   "execution_count": 43,
   "metadata": {},
   "outputs": [
    {
     "name": "stdout",
     "output_type": "stream",
     "text": [
      "[*********************100%%**********************]  1 of 1 completed\n",
      "                  Open        High         Low       Close   Adj Close  \\\n",
      "Date                                                                     \n",
      "2021-03-04  121.750000  123.599998  118.620003  120.129997  118.377342   \n",
      "2021-03-05  120.980003  121.940002  117.570000  121.419998  119.648529   \n",
      "2021-03-08  120.930000  121.000000  116.209999  116.360001  114.662361   \n",
      "2021-03-09  119.029999  122.059998  118.790001  121.089996  119.323326   \n",
      "2021-03-10  121.690002  122.169998  119.449997  119.980003  118.229546   \n",
      "\n",
      "               Volume  \n",
      "Date                   \n",
      "2021-03-04  178155000  \n",
      "2021-03-05  153766600  \n",
      "2021-03-08  154376600  \n",
      "2021-03-09  129525800  \n",
      "2021-03-10  111943300  \n",
      "                  Open        High         Low       Close   Adj Close  \\\n",
      "Date                                                                     \n",
      "2023-09-25  174.199997  176.970001  174.149994  176.080002  176.080002   \n",
      "2023-09-26  174.820007  175.199997  171.660004  171.960007  171.960007   \n",
      "2023-09-27  172.619995  173.039993  169.050003  170.429993  170.429993   \n",
      "2023-09-28  169.339996  172.029999  167.619995  170.690002  170.690002   \n",
      "2023-09-29  172.020004  173.070007  170.339996  171.210007  171.210007   \n",
      "\n",
      "              Volume  \n",
      "Date                  \n",
      "2023-09-25  46172700  \n",
      "2023-09-26  64588900  \n",
      "2023-09-27  66921800  \n",
      "2023-09-28  56294400  \n",
      "2023-09-29  51814200  \n"
     ]
    }
   ],
   "source": [
    "data_collect = dataCollect(yahoo_info)\n",
    "stock_data_df = data_collect.compress_data_to_df()\n",
    "if stock_data_df is not None:\n",
    "    print(stock_data_df.head())\n",
    "    print(stock_data_df.tail())"
   ]
  },
  {
   "cell_type": "code",
   "execution_count": 56,
   "metadata": {},
   "outputs": [
    {
     "name": "stdout",
     "output_type": "stream",
     "text": [
      "Model: \"sequential_13\"\n",
      "_________________________________________________________________\n",
      " Layer (type)                Output Shape              Param #   \n",
      "=================================================================\n",
      " lstm_26 (LSTM)              (None, 60, 50)            10400     \n",
      "                                                                 \n",
      " lstm_27 (LSTM)              (None, 50)                20200     \n",
      "                                                                 \n",
      " dense_26 (Dense)            (None, 25)                1275      \n",
      "                                                                 \n",
      " dense_27 (Dense)            (None, 1)                 26        \n",
      "                                                                 \n",
      "=================================================================\n",
      "Total params: 31,901\n",
      "Trainable params: 31,901\n",
      "Non-trainable params: 0\n",
      "_________________________________________________________________\n"
     ]
    }
   ],
   "source": [
    "if stock_data_df is not None:\n",
    "    model = create_and_compile_model(stock_data_df)\n",
    "    model.summary()"
   ]
  },
  {
   "cell_type": "code",
   "execution_count": 27,
   "metadata": {},
   "outputs": [
    {
     "ename": "AttributeError",
     "evalue": "'NoneType' object has no attribute 'filter'",
     "output_type": "error",
     "traceback": [
      "\u001b[0;31m---------------------------------------------------------------------------\u001b[0m",
      "\u001b[0;31mAttributeError\u001b[0m                            Traceback (most recent call last)",
      "\u001b[0;32m/var/folders/3_/47vqdh_x6yv5xsh7rjr90f240000gn/T/ipykernel_1935/244231849.py\u001b[0m in \u001b[0;36m<module>\u001b[0;34m\u001b[0m\n\u001b[1;32m      1\u001b[0m \u001b[0;32mimport\u001b[0m \u001b[0mmath\u001b[0m\u001b[0;34m\u001b[0m\u001b[0;34m\u001b[0m\u001b[0m\n\u001b[0;32m----> 2\u001b[0;31m \u001b[0mdata\u001b[0m \u001b[0;34m=\u001b[0m \u001b[0mstock_data_df\u001b[0m\u001b[0;34m.\u001b[0m\u001b[0mfilter\u001b[0m\u001b[0;34m(\u001b[0m\u001b[0;34m[\u001b[0m\u001b[0;34m'Close'\u001b[0m\u001b[0;34m]\u001b[0m\u001b[0;34m)\u001b[0m\u001b[0;34m\u001b[0m\u001b[0;34m\u001b[0m\u001b[0m\n\u001b[0m\u001b[1;32m      3\u001b[0m \u001b[0mdataset\u001b[0m \u001b[0;34m=\u001b[0m \u001b[0mdata\u001b[0m\u001b[0;34m.\u001b[0m\u001b[0mvalues\u001b[0m\u001b[0;34m\u001b[0m\u001b[0;34m\u001b[0m\u001b[0m\n\u001b[1;32m      4\u001b[0m \u001b[0;31m#Get the number of rows to train the model on\u001b[0m\u001b[0;34m\u001b[0m\u001b[0;34m\u001b[0m\u001b[0m\n\u001b[1;32m      5\u001b[0m \u001b[0mtraining_data_len\u001b[0m \u001b[0;34m=\u001b[0m \u001b[0mmath\u001b[0m\u001b[0;34m.\u001b[0m\u001b[0mceil\u001b[0m\u001b[0;34m(\u001b[0m\u001b[0mlen\u001b[0m\u001b[0;34m(\u001b[0m\u001b[0mdataset\u001b[0m\u001b[0;34m)\u001b[0m \u001b[0;34m*\u001b[0m \u001b[0;36m.8\u001b[0m\u001b[0;34m)\u001b[0m\u001b[0;34m\u001b[0m\u001b[0;34m\u001b[0m\u001b[0m\n",
      "\u001b[0;31mAttributeError\u001b[0m: 'NoneType' object has no attribute 'filter'"
     ]
    }
   ],
   "source": [
    "import math\n",
    "data = stock_data_df.filter(['Close'])\n",
    "dataset = data.values\n",
    "#Get the number of rows to train the model on\n",
    "training_data_len = math.ceil(len(dataset) * .8)\n",
    "\n",
    "training_data_len"
   ]
  },
  {
   "cell_type": "code",
   "execution_count": null,
   "metadata": {},
   "outputs": [],
   "source": [
    "from sklearn.preprocessing import MinMaxScaler\n",
    "scaler = MinMaxScaler(feature_range=(0,1))\n",
    "scaled_data = scaler.fit_transform(dataset)"
   ]
  }
 ],
 "metadata": {
  "kernelspec": {
   "display_name": "condaenv",
   "language": "python",
   "name": "python3"
  },
  "language_info": {
   "codemirror_mode": {
    "name": "ipython",
    "version": 3
   },
   "file_extension": ".py",
   "mimetype": "text/x-python",
   "name": "python",
   "nbconvert_exporter": "python",
   "pygments_lexer": "ipython3",
   "version": "3.9.7"
  },
  "orig_nbformat": 4
 },
 "nbformat": 4,
 "nbformat_minor": 2
}
